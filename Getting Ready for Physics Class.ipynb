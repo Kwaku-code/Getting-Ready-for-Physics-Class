{
 "cells": [
  {
   "cell_type": "code",
   "execution_count": null,
   "metadata": {},
   "outputs": [],
   "source": [
    "# Uncomment this when you reach the \"Use the Force\" section\n",
    "train_mass = 22680\n",
    "train_acceleration = 10\n",
    "train_distance = 100\n",
    "bomb_mass = 1\n",
    "\n",
    "\n",
    "# Write your code below: \n",
    "def f_to_c(f_temp):\n",
    "  c_temp = (f_temp - 32) * 5/9\n",
    "  return c_temp\n",
    "  f100_in_celsius = f_to_c(100)\n",
    "def c_to_f(c_temp):\n",
    "  f_temp = c_temp * (9/5) + 32\n",
    "  return f_temp\n",
    "  c0_in_fahrenheit = c_to_f(0)\n",
    "def get_force(mass, acceleration):\n",
    "  return mass * acceleration\n",
    "train_force = get_force(train_mass, train_acceleration)\n",
    "print(\"The GE train supplies \" + str(train_force) + \" Newtons of force.\")\n",
    "def get_energy(mass, c=3*10**8):\n",
    "  return mass * c**2\n",
    "bomb_energy = get_energy(bomb_mass, c=3*10**8)\n",
    "print(\"A 1kg bomb supplies \" + str(bomb_energy) + \"Joules.\")\n",
    "def get_work(mass, acceleration, distance):\n",
    "  force = get_force(force)*distance\n",
    "  return force\n",
    "train_work = get_work(train_mass, train_acceleration, train_distance)\n",
    "print(\"The GE train does \" + train_work +\" Joules of work over \" + train_distance + \" meters.\")"
   ]
  }
 ],
 "metadata": {
  "kernelspec": {
   "display_name": "Python 3",
   "language": "python",
   "name": "python3"
  },
  "language_info": {
   "codemirror_mode": {
    "name": "ipython",
    "version": 3
   },
   "file_extension": ".py",
   "mimetype": "text/x-python",
   "name": "python",
   "nbconvert_exporter": "python",
   "pygments_lexer": "ipython3",
   "version": "3.7.3"
  }
 },
 "nbformat": 4,
 "nbformat_minor": 2
}
